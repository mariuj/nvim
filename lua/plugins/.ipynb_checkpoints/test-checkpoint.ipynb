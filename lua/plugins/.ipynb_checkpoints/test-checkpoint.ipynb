{
 "cells": [
  {
   "cell_type": "markdown",
   "id": "e190d40b-ca3d-422e-9b5c-daa4aedb779e",
   "metadata": {},
   "source": [
    "# HEADER"
   ]
  },
  {
   "cell_type": "code",
   "execution_count": 2,
   "id": "e2d5cad7-a546-4588-992e-991716bc9387",
   "metadata": {
    "execution": {
     "iopub.execute_input": "2024-08-11T13:09:23.970380Z",
     "iopub.status.busy": "2024-08-11T13:09:23.969901Z",
     "iopub.status.idle": "2024-08-11T13:09:23.974107Z",
     "shell.execute_reply": "2024-08-11T13:09:23.973444Z",
     "shell.execute_reply.started": "2024-08-11T13:09:23.970347Z"
    }
   },
   "outputs": [],
   "source": [
    "def myfunc(x):\n",
    "    return x"
   ]
  },
  {
   "cell_type": "markdown",
   "id": "a1fbb819-3f05-4fd6-9af6-5e08a7fd783a",
   "metadata": {},
   "source": [
    "## HEADER2"
   ]
  },
  {
   "cell_type": "code",
   "execution_count": 3,
   "id": "71744d54-f051-4ae8-a8b2-e1273bb60c6c",
   "metadata": {
    "execution": {
     "iopub.execute_input": "2024-08-11T13:09:24.858258Z",
     "iopub.status.busy": "2024-08-11T13:09:24.857075Z",
     "iopub.status.idle": "2024-08-11T13:09:24.863206Z",
     "shell.execute_reply": "2024-08-11T13:09:24.862549Z",
     "shell.execute_reply.started": "2024-08-11T13:09:24.858192Z"
    }
   },
   "outputs": [],
   "source": [
    "z = myfunc(2)"
   ]
  }
 ],
 "metadata": {
  "kernelspec": {
   "display_name": "Python 3 (ipykernel)",
   "language": "python",
   "name": "python3"
  },
  "language_info": {
   "codemirror_mode": {
    "name": "ipython",
    "version": 3
   },
   "file_extension": ".py",
   "mimetype": "text/x-python",
   "name": "python",
   "nbconvert_exporter": "python",
   "pygments_lexer": "ipython3",
   "version": "3.12.4"
  }
 },
 "nbformat": 4,
 "nbformat_minor": 5
}
